{
 "cells": [
  {
   "cell_type": "code",
   "execution_count": 63,
   "id": "89a858de",
   "metadata": {},
   "outputs": [
    {
     "name": "stdout",
     "output_type": "stream",
     "text": [
      "shape of raster (4000, 4000)\n",
      "unique values in raster [  0   1   2   3  13  14  22  31  32  33  34  35  42  45  46  50  51  52\n",
      "  65  67  69  71  74  77  80  81  91  95  96  99 100 104 112 114 117 119\n",
      " 121 124 128 130 132 133 135 136 137 140 141 144 146 147 152 154 156 159\n",
      " 164 165 166 167 168 169 170 171 173 177 179 181 182 183 184 187 193 197\n",
      " 199 200 203 205 206 207 208 209 210 211 212 213 214 215 216 217 218 219\n",
      " 220 221 222 223 224 225 226 227 228 229 230 231 232 233 234 235 236 237\n",
      " 238 239 240 241 242 243 244 245 246 247 248 249 250 251 252 253 254 255]\n",
      "img shape: (4000, 4000)\n"
     ]
    },
    {
     "data": {
      "image/png": "[encoded data removed]",
      "text/plain": [
       "<Figure size 432x288 with 1 Axes>"
      ]
     },
     "metadata": {
      "needs_background": "light"
     },
     "output_type": "display_data"
    },
    {
     "name": "stdout",
     "output_type": "stream",
     "text": [
      "img shape: (500, 600)\n"
     ]
    },
    {
     "data": {
      "image/png": "[encoded data removed]",
      "text/plain": [
       "<Figure size 432x288 with 1 Axes>"
      ]
     },
     "metadata": {
      "needs_background": "light"
     },
     "output_type": "display_data"
    },
    {
     "name": "stdout",
     "output_type": "stream",
     "text": [
      "img shape: (500, 600)\n"
     ]
    },
    {
     "data": {
      "image/png": "[encoded data removed]",
      "text/plain": [
       "<Figure size 432x288 with 1 Axes>"
      ]
     },
     "metadata": {
      "needs_background": "light"
     },
     "output_type": "display_data"
    }
   ],
   "source": [
    "import numpy as np\n",
    "import matplotlib.pyplot as plt\n",
    "%matplotlib inline\n",
    "\n",
    "#读入pgm格式文件，并把像素值转化成矩阵\n",
    "#因为这个pgm文件比较大，我们不能用f.readlines()或者read()一次性读取，而是一个数值一个数值的装进矩阵，否则会导致卡顿。\n",
    "#建议以二进制读取文件，然后再解码\n",
    "def read_pgm(pgm_name, encoding):\n",
    "    \"\"\"Return a raster of integers from a PGM as a list of lists.\"\"\"\n",
    "    pgmf = open(pgm_name, 'rb')\n",
    "    assert pgmf.readline().decode(encoding) == 'P5\\n'\n",
    "    #pgmf.readline()\n",
    "    (width, height) = [int(i) for i in pgmf.readline().decode(encoding).split()]\n",
    "    depth = int(pgmf.readline())\n",
    "    assert depth <= 255\n",
    "\n",
    "    raster = []\n",
    "    for y in range(height):\n",
    "        row = []\n",
    "        for y in range(width):\n",
    "            row.append(ord(pgmf.read(1)))\n",
    "        raster.append(row)\n",
    "    raster = np.array(raster)\n",
    "    return raster\n",
    "\n",
    "#如果想要存下来处理得到的数组矩阵以后用\n",
    "#存矩阵\n",
    "def save_arr(arr, fpath):\n",
    "    with open(fpath, 'wb') as f:\n",
    "        np.save(f, arr)\n",
    "#加载矩阵\n",
    "def load_arr(fpath):\n",
    "    with open(fpath, 'rb') as f:\n",
    "        return np.load(f)\n",
    "\n",
    "#map1 = load_arr('allen1_safeguard.npy')\n",
    "\n",
    "#检查地图上某点是否为障碍\n",
    "def state_validity_check(Map, config):\n",
    "    return Map[config]==0\n",
    "\n",
    "\n",
    "\n",
    "# Plot img\n",
    "#可视化像素矩阵，发现黑色区域太大，显得目标区域太小，因此对矩阵进行slicing\n",
    "#for arr here, 0 denotes no obstacle, 1 denotes obstacle\n",
    "def visual(arr, threshold):\n",
    "    if threshold!=None:\n",
    "        arr[arr<threshold]=1\n",
    "        arr[arr>=threshold]=0\n",
    "    fig = plt.figure()\n",
    "    ax1 = fig.add_subplot(1, 1, 1)\n",
    "    visit_map = 1 - np.copy(arr) # black is obstacle, white is free space\n",
    "    ax1_img = ax1.imshow(visit_map, interpolation=\"nearest\", cmap=\"gray\")\n",
    "    print('img shape:', arr.shape)\n",
    "    plt.show()\n",
    "    \n",
    "#人为缩小无障碍区域，防止小车容易撞到障碍物\n",
    "def config_space(m, dist):\n",
    "    m2 = np.ones_like(m)\n",
    "    h, w = m.shape\n",
    "    for i in range(h):\n",
    "        for j in range(w):\n",
    "            if i<dist or i>=w-dist or j<dist or j>=w-dist:\n",
    "                continue\n",
    "            if m[i-dist:i+dist, j-dist:j+dist].sum()==0:\n",
    "                m2[i,j] = 0\n",
    "                #print(i,j)\n",
    "    return m2\n",
    "\n",
    "pgm_name = 'allen1_brushed.pgm'\n",
    "pgm_name1='real-floor4_corridor.pgm'\n",
    "raster = read_pgm(pgm_name, 'utf-8')\n",
    "print('shape of raster', raster.shape)\n",
    "print('unique values in raster', np.unique(raster))\n",
    "#因为笔刷饱和度或者深度啥的略有误差，即使人眼看上去是白色，但实际上并不是254，所以我们降低阈值为210\n",
    "visual(raster, threshold = 210)\n",
    "#裁剪过宽的黑色边缘\n",
    "raster1 = raster\n",
    "raster1 = raster[1850:2350,1900:2500]\n",
    "visual(raster1, threshold = None)\n",
    "#人为缩小无障碍区域，防止小车容易撞到障碍物\n",
    "safe_raster1 = config_space(raster1, dist=8)\n",
    "visual(safe_raster1, None)"
   ]
  },
  {
   "cell_type": "code",
   "execution_count": 6,
   "id": "e1252f38",
   "metadata": {},
   "outputs": [
    {
     "data": {
      "text/plain": [
       "True"
      ]
     },
     "execution_count": 6,
     "metadata": {},
     "output_type": "execute_result"
    }
   ],
   "source": [
    "start = (150, 100)\n",
    "goal = (365, 415)\n",
    "state_validity_check(safe_raster1, start)\n",
    "state_validity_check(safe_raster1, goal)"
   ]
  },
  {
   "cell_type": "code",
   "execution_count": 62,
   "id": "cbd7efe4",
   "metadata": {},
   "outputs": [],
   "source": [
    "save_arr(safe_raster1.astype('int8'), fpath='allen1_safeguard_notcrop_d8.npy')"
   ]
  },
  {
   "cell_type": "code",
   "execution_count": 20,
   "id": "b0f43e1f",
   "metadata": {},
   "outputs": [
    {
     "name": "stdout",
     "output_type": "stream",
     "text": [
      "0\n"
     ]
    }
   ],
   "source": [
    "'''\n",
    "plan = np.load('plan.npy')\n",
    "sum_v = 0\n",
    "for x,y in plan:\n",
    "    x= int(x[0])\n",
    "    y= int(y[0])\n",
    "#     print(x,y)\n",
    "    sum_v+=raster2[x,y]\n",
    "print(sum_v)\n",
    "\n",
    "'''"
   ]
  },
  {
   "cell_type": "code",
   "execution_count": null,
   "id": "da1bf7f5",
   "metadata": {},
   "outputs": [],
   "source": []
  }
 ],
 "metadata": {
  "kernelspec": {
   "display_name": "Python 3 (ipykernel)",
   "language": "python",
   "name": "python3"
  },
  "language_info": {
   "codemirror_mode": {
    "name": "ipython",
    "version": 3
   },
   "file_extension": ".py",
   "mimetype": "text/x-python",
   "name": "python",
   "nbconvert_exporter": "python",
   "pygments_lexer": "ipython3",
   "version": "3.9.7"
  }
 },
 "nbformat": 4,
 "nbformat_minor": 5
}
